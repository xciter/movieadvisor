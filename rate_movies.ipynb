{
 "metadata": {
  "name": "",
  "signature": "sha256:f77a5cf3713c26909d2227b84e2a14c9d28f85398befe208fe8bff870d7833e6"
 },
 "nbformat": 3,
 "nbformat_minor": 0,
 "worksheets": [
  {
   "cells": [
    {
     "cell_type": "code",
     "collapsed": false,
     "input": [
      "from pymongo import MongoClient\n",
      "from random import randint\n",
      "from IPython.display import Image\n",
      "import sys\n",
      "sys.path.append('Path to your local files')\n",
      "from tmdb_api import get_movies"
     ],
     "language": "python",
     "metadata": {},
     "outputs": [],
     "prompt_number": 2
    },
    {
     "cell_type": "code",
     "collapsed": false,
     "input": [
      "client = MongoClient()\n",
      "db = client.movies_db\n",
      "watched_movies = db.watched_movies\n",
      "movies = db.movies"
     ],
     "language": "python",
     "metadata": {},
     "outputs": [],
     "prompt_number": 3
    },
    {
     "cell_type": "code",
     "collapsed": false,
     "input": [
      "popular_movies = get_movies()"
     ],
     "language": "python",
     "metadata": {},
     "outputs": [],
     "prompt_number": 4
    },
    {
     "cell_type": "code",
     "collapsed": false,
     "input": [
      "title = popular_movies.pop(0)\n",
      "print(title)\n",
      "random_movie = movies.find_one({'alt_title': title})\n",
      "print(random_movie['title'], random_movie['year'])\n",
      "print(random_movie['countries'])\n",
      "print(random_movie['genres'])\n",
      "print(random_movie['actors'])\n",
      "print(random_movie['description'])\n",
      "print(random_movie['imdb'])\n",
      "Image(url=random_movie['poster_link'])"
     ],
     "language": "python",
     "metadata": {},
     "outputs": [
      {
       "output_type": "stream",
       "stream": "stdout",
       "text": [
        "Interstellar\n",
        "\u0418\u043d\u0442\u0435\u0440\u0441\u0442\u0435\u043b\u043b\u0430\u0440 2014\n",
        "['\u0412\u0435\u043b\u0438\u043a\u043e\u0431\u0440\u0438\u0442\u0430\u043d\u0438\u044f', '\u0421\u0428\u0410']\n",
        "['\u043f\u0440\u0438\u043a\u043b\u044e\u0447\u0435\u043d\u0438\u044f', '\u0444\u0430\u043d\u0442\u0430\u0441\u0442\u0438\u043a\u0430']\n",
        "['\u042d\u043d\u043d \u0425\u044d\u0442\u044d\u0443\u044d\u0439', '\u041c\u044d\u0442\u0442\u044c\u044e \u041c\u0430\u043a\u041a\u043e\u043d\u0430\u0445\u0438', '\u0414\u0436\u043e\u043d \u041b\u0438\u0442\u0433\u043e\u0443', '\u042d\u043b\u043b\u0435\u043d \u0411\u0451\u0440\u0441\u0442\u0438\u043d', '\u0424\u0440\u044d\u043d\u0441\u0438\u0441 \u0417. \u041c\u0430\u043a\u041a\u0430\u0440\u0442\u0438', '\u041c\u0430\u043a\u043a\u0435\u043d\u0437\u0438 \u0424\u043e\u0439', '\u0414\u044d\u0432\u0438\u0434 \u041e\u0439\u0435\u043b\u043e\u0443\u043e', '\u0411\u0438\u043b\u043b \u0418\u0440\u0432\u0438\u043d', '\u041a\u043e\u043b\u043b\u0435\u0442\u0442 \u0412\u0443\u043b\u044c\u0444', 'Timoth\u00e9e Chalamet', 'Andrew Borba']\n",
        "\u0424\u0438\u043b\u044c\u043c \u043f\u043e\u0432\u0435\u0441\u0442\u0432\u0443\u0435\u0442 \u043e \u043f\u0443\u0442\u0435\u0448\u0435\u0441\u0442\u0432\u0438\u044f\u0445 \u0433\u0440\u0443\u043f\u043f\u044b \u0438\u0441\u0441\u043b\u0435\u0434\u043e\u0432\u0430\u0442\u0435\u043b\u0435\u0439, \u043a\u043e\u0442\u043e\u0440\u044b\u0435 \u0438\u0441\u043f\u043e\u043b\u044c\u0437\u0443\u044e\u0442 \u043d\u0435\u0434\u0430\u0432\u043d\u043e \u043e\u0431\u043d\u0430\u0440\u0443\u0436\u0435\u043d\u043d\u0443\u044e \u0447\u0435\u0440\u043d\u0443\u044e \u0434\u044b\u0440\u0443, \u0447\u0442\u043e\u0431\u044b \u043e\u0431\u043e\u0439\u0442\u0438 \u043e\u0433\u0440\u0430\u043d\u0438\u0447\u0435\u043d\u0438\u044f \u043f\u043e\u043b\u0435\u0442\u0430 \u0447\u0435\u043b\u043e\u0432\u0435\u043a\u0430 \u0432 \u043a\u043e\u0441\u043c\u043e\u0441\u0435 \u0438 \u043f\u043e\u043a\u043e\u0440\u0438\u0442\u044c \u043e\u0433\u0440\u043e\u043c\u043d\u044b\u0435 \u0440\u0430\u0441\u0441\u0442\u043e\u044f\u043d\u0438\u044f \u043d\u0430 \u043c\u0435\u0436\u0437\u0432\u0435\u0437\u0434\u043d\u043e\u043c \u043a\u043e\u0440\u0430\u0431\u043b\u0435.\n",
        "8.9\n"
       ]
      },
      {
       "html": [
        "<img src=\"http://c.cinemate.cc/media/m/8/7/120778/0_1.big.jpg\"/>"
       ],
       "metadata": {},
       "output_type": "pyout",
       "prompt_number": 6,
       "text": [
        "<IPython.core.display.Image at 0x3d8c5c0>"
       ]
      }
     ],
     "prompt_number": 6
    },
    {
     "cell_type": "code",
     "collapsed": false,
     "input": [
      "random_movie['rating'] = 1\n",
      "watched_movies.insert(random_movie)"
     ],
     "language": "python",
     "metadata": {},
     "outputs": [
      {
       "metadata": {},
       "output_type": "pyout",
       "prompt_number": 37,
       "text": [
        "ObjectId('549fc38d7430fc0cc4b4b134')"
       ]
      }
     ],
     "prompt_number": 37
    },
    {
     "cell_type": "code",
     "collapsed": false,
     "input": [],
     "language": "python",
     "metadata": {},
     "outputs": []
    }
   ],
   "metadata": {}
  }
 ]
}